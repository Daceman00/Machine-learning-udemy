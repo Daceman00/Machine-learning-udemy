{
  "cells": [
    {
      "cell_type": "markdown",
      "metadata": {
        "id": "agZCVL6Ir3j5"
      },
      "source": [
        "___\n",
        "\n",
        "<a href='http://www.pieriandata.com'> <img src='../Pierian_Data_Logo.png' /></a>\n",
        "___\n",
        "# Python Crash Course Exercises \n",
        "\n",
        "This is an optional exercise to test your understanding of Python Basics. If you find this extremely challenging, then you probably are not ready for the rest of this course yet and don't have enough programming experience to continue. I would suggest you take another course more geared towards complete beginners, such as [Complete Python Bootcamp](https://www.udemy.com/complete-python-bootcamp/?couponCode=PY20)"
      ]
    },
    {
      "cell_type": "markdown",
      "metadata": {
        "id": "okUaDjLgr3kB"
      },
      "source": [
        "## Exercises\n",
        "\n",
        "Answer the questions or complete the tasks outlined in bold below, use the specific method described if applicable."
      ]
    },
    {
      "cell_type": "markdown",
      "metadata": {
        "id": "NhPsB3fQr3kD"
      },
      "source": [
        "** What is 7 to the power of 4?**"
      ]
    },
    {
      "cell_type": "code",
      "execution_count": 1,
      "metadata": {
        "id": "-_CEt0Qpr3kE",
        "outputId": "ecae3db8-9855-4cdf-fdf6-c1a7c9aa77af",
        "colab": {
          "base_uri": "https://localhost:8080/"
        }
      },
      "outputs": [
        {
          "output_type": "execute_result",
          "data": {
            "text/plain": [
              "2401"
            ]
          },
          "metadata": {},
          "execution_count": 1
        }
      ],
      "source": [
        "7**4"
      ]
    },
    {
      "cell_type": "markdown",
      "metadata": {
        "id": "Gyk8sPLnr3kH"
      },
      "source": [
        "** Split this string:**\n",
        "\n",
        "    s = \"Hi there Sam!\"\n",
        "    \n",
        "**into a list. **"
      ]
    },
    {
      "cell_type": "code",
      "execution_count": 8,
      "metadata": {
        "collapsed": true,
        "id": "ddqgZMm0r3kI",
        "colab": {
          "base_uri": "https://localhost:8080/"
        },
        "outputId": "43cc1bdf-d72b-4ffd-a591-d75892dde821"
      },
      "outputs": [
        {
          "output_type": "execute_result",
          "data": {
            "text/plain": [
              "['Hi', 'there', 'Sam!']"
            ]
          },
          "metadata": {},
          "execution_count": 8
        }
      ],
      "source": [
        "s = \"Hi there Sam!\"\n",
        "s.split()"
      ]
    },
    {
      "cell_type": "code",
      "execution_count": 9,
      "metadata": {
        "id": "KGN-iXZur3kI",
        "outputId": "6248af89-4d1f-4ff1-be90-b6bdc0a7e0ad",
        "colab": {
          "base_uri": "https://localhost:8080/"
        }
      },
      "outputs": [
        {
          "output_type": "execute_result",
          "data": {
            "text/plain": [
              "['Hi', 'there', 'Sam!']"
            ]
          },
          "metadata": {},
          "execution_count": 9
        }
      ],
      "source": [
        "s = \"Hi there Sam!\"\n",
        "s.split()"
      ]
    },
    {
      "cell_type": "markdown",
      "metadata": {
        "id": "gAmim5urr3kJ"
      },
      "source": [
        "** Given the variables:**\n",
        "\n",
        "    planet = \"Earth\"\n",
        "    diameter = 12742\n",
        "\n",
        "** Use .format() to print the following string: **\n",
        "\n",
        "    The diameter of Earth is 12742 kilometers."
      ]
    },
    {
      "cell_type": "code",
      "execution_count": 13,
      "metadata": {
        "collapsed": true,
        "id": "LvLuzE1Wr3kL"
      },
      "outputs": [],
      "source": [
        "planet = \"Earth\"\n",
        "diameter = 12742\n"
      ]
    },
    {
      "cell_type": "code",
      "execution_count": 14,
      "metadata": {
        "id": "1JE5qCjBr3kM",
        "outputId": "95980901-c707-45fe-afeb-1ea43ecf1609",
        "colab": {
          "base_uri": "https://localhost:8080/"
        }
      },
      "outputs": [
        {
          "output_type": "stream",
          "name": "stdout",
          "text": [
            "The diameter of Earth is 12742 kilometers\n"
          ]
        }
      ],
      "source": [
        "print(\"The diameter of {one} is {two} kilometers\".format(one=planet, two=diameter))"
      ]
    },
    {
      "cell_type": "markdown",
      "metadata": {
        "id": "Abp2UpMKr3kN"
      },
      "source": [
        "** Given this nested list, use indexing to grab the word \"hello\" **"
      ]
    },
    {
      "cell_type": "code",
      "execution_count": 15,
      "metadata": {
        "collapsed": true,
        "id": "-fKt4FwVr3kN"
      },
      "outputs": [],
      "source": [
        "lst = [1,2,[3,4],[5,[100,200,['hello']],23,11],1,7]"
      ]
    },
    {
      "cell_type": "code",
      "execution_count": 23,
      "metadata": {
        "id": "yOeffqH2r3kO",
        "outputId": "89fca931-702f-47c8-9e9f-334b0477b884",
        "colab": {
          "base_uri": "https://localhost:8080/"
        }
      },
      "outputs": [
        {
          "output_type": "execute_result",
          "data": {
            "text/plain": [
              "['hello']"
            ]
          },
          "metadata": {},
          "execution_count": 23
        }
      ],
      "source": [
        "lst[3][1][2]"
      ]
    },
    {
      "cell_type": "markdown",
      "metadata": {
        "id": "fznCHCSHr3kQ"
      },
      "source": [
        "** Given this nested dictionary grab the word \"hello\". Be prepared, this will be annoying/tricky **"
      ]
    },
    {
      "cell_type": "code",
      "execution_count": 24,
      "metadata": {
        "id": "vzUMTGyJr3kR"
      },
      "outputs": [],
      "source": [
        "d = {'k1':[1,2,3,{'tricky':['oh','man','inception',{'target':[1,2,3,'hello']}]}]}"
      ]
    },
    {
      "cell_type": "code",
      "execution_count": null,
      "metadata": {
        "id": "pXHpnsRir3kT",
        "outputId": "673d20c8-362f-4a5f-83d0-b4c416856821"
      },
      "outputs": [
        {
          "data": {
            "text/plain": [
              "'hello'"
            ]
          },
          "execution_count": 22,
          "metadata": {},
          "output_type": "execute_result"
        }
      ],
      "source": []
    },
    {
      "cell_type": "markdown",
      "metadata": {
        "id": "fA61tz3Wr3kU"
      },
      "source": [
        "** What is the main difference between a tuple and a list? **"
      ]
    },
    {
      "cell_type": "code",
      "execution_count": 25,
      "metadata": {
        "collapsed": true,
        "id": "vy4rykzyr3kV"
      },
      "outputs": [],
      "source": [
        "# Tuple is immutable"
      ]
    },
    {
      "cell_type": "markdown",
      "metadata": {
        "id": "hqjuj0HKr3kV"
      },
      "source": [
        "** Create a function that grabs the email website domain from a string in the form: **\n",
        "\n",
        "    user@domain.com\n",
        "    \n",
        "**So for example, passing \"user@domain.com\" would return: domain.com**"
      ]
    },
    {
      "cell_type": "code",
      "execution_count": 94,
      "metadata": {
        "collapsed": true,
        "id": "nuQ9Gi-or3kW"
      },
      "outputs": [],
      "source": [
        "def domainGet(s):\n",
        "  return s.split(\"@\")[-1]"
      ]
    },
    {
      "cell_type": "code",
      "execution_count": 95,
      "metadata": {
        "id": "7_0D6GR5r3kW",
        "outputId": "ad4d2463-8db6-4a75-9644-dcac0e2e1194",
        "colab": {
          "base_uri": "https://localhost:8080/",
          "height": 35
        }
      },
      "outputs": [
        {
          "output_type": "execute_result",
          "data": {
            "text/plain": [
              "'domain.com'"
            ],
            "application/vnd.google.colaboratory.intrinsic+json": {
              "type": "string"
            }
          },
          "metadata": {},
          "execution_count": 95
        }
      ],
      "source": [
        "domainGet('user@domain.com')"
      ]
    },
    {
      "cell_type": "markdown",
      "metadata": {
        "id": "1RsEmVXnr3kX"
      },
      "source": [
        "** Create a basic function that returns True if the word 'dog' is contained in the input string. Don't worry about edge cases like a punctuation being attached to the word dog, but do account for capitalization. **"
      ]
    },
    {
      "cell_type": "code",
      "execution_count": 83,
      "metadata": {
        "collapsed": true,
        "id": "WnCQ3nv_r3kX"
      },
      "outputs": [],
      "source": [
        "def findDog(s):\n",
        "  if \"dog\" in s.lower().split():\n",
        "    return True"
      ]
    },
    {
      "cell_type": "code",
      "execution_count": 84,
      "metadata": {
        "id": "WeNQu665r3kY",
        "outputId": "1f70cd03-eb39-434a-ed9b-7421cae811a6",
        "colab": {
          "base_uri": "https://localhost:8080/"
        }
      },
      "outputs": [
        {
          "output_type": "execute_result",
          "data": {
            "text/plain": [
              "True"
            ]
          },
          "metadata": {},
          "execution_count": 84
        }
      ],
      "source": [
        "findDog('Is there a dog here?')"
      ]
    },
    {
      "cell_type": "markdown",
      "metadata": {
        "id": "xjperGV9r3ka"
      },
      "source": [
        "** Create a function that counts the number of times the word \"dog\" occurs in a string. Again ignore edge cases. **"
      ]
    },
    {
      "cell_type": "code",
      "execution_count": 85,
      "metadata": {
        "id": "6MSFppfqr3kb"
      },
      "outputs": [],
      "source": [
        "def countDog(s):\n",
        "  counter = 0\n",
        "  for i in s.lower().split():\n",
        "    if i == \"dog\":\n",
        "      counter += 1\n",
        "  return counter     "
      ]
    },
    {
      "cell_type": "code",
      "source": [
        "countDog(\"ghdasasd\")"
      ],
      "metadata": {
        "colab": {
          "base_uri": "https://localhost:8080/"
        },
        "id": "Fm5ImVIknPW-",
        "outputId": "79d110dc-b6cc-4b93-ca00-ee37ab139789"
      },
      "execution_count": 86,
      "outputs": [
        {
          "output_type": "execute_result",
          "data": {
            "text/plain": [
              "0"
            ]
          },
          "metadata": {},
          "execution_count": 86
        }
      ]
    },
    {
      "cell_type": "code",
      "execution_count": 87,
      "metadata": {
        "id": "JmNeD40rr3kb",
        "outputId": "bce804fc-947e-4ebe-c06f-06e3aa673ebc",
        "colab": {
          "base_uri": "https://localhost:8080/"
        }
      },
      "outputs": [
        {
          "output_type": "execute_result",
          "data": {
            "text/plain": [
              "2"
            ]
          },
          "metadata": {},
          "execution_count": 87
        }
      ],
      "source": [
        "countDog('This dog runs faster than the other dog dude!')"
      ]
    },
    {
      "cell_type": "markdown",
      "metadata": {
        "id": "m7iFQvpbr3kc"
      },
      "source": [
        "** Use lambda expressions and the filter() function to filter out words from a list that don't start with the letter 's'. For example:**\n",
        "\n",
        "    seq = ['soup','dog','salad','cat','great']\n",
        "\n",
        "**should be filtered down to:**\n",
        "\n",
        "    ['soup','salad']"
      ]
    },
    {
      "cell_type": "code",
      "execution_count": 88,
      "metadata": {
        "collapsed": true,
        "id": "ulb83yoKr3kd"
      },
      "outputs": [],
      "source": [
        "seq = ['soup','dog','salad','cat','great']"
      ]
    },
    {
      "cell_type": "code",
      "execution_count": 96,
      "metadata": {
        "id": "dtNyWoK8r3kd",
        "outputId": "addb4ac3-c7f9-4613-fd76-a9be41916281",
        "colab": {
          "base_uri": "https://localhost:8080/"
        }
      },
      "outputs": [
        {
          "output_type": "execute_result",
          "data": {
            "text/plain": [
              "['soup', 'salad']"
            ]
          },
          "metadata": {},
          "execution_count": 96
        }
      ],
      "source": [
        "list(filter(lambda item: item[0] == \"s\", seq))\n"
      ]
    },
    {
      "cell_type": "markdown",
      "metadata": {
        "id": "r6Il9sKkr3kf"
      },
      "source": [
        "### Final Problem\n",
        "**You are driving a little too fast, and a police officer stops you. Write a function\n",
        "  to return one of 3 possible results: \"No ticket\", \"Small ticket\", or \"Big Ticket\". \n",
        "  If your speed is 60 or less, the result is \"No Ticket\". If speed is between 61 \n",
        "  and 80 inclusive, the result is \"Small Ticket\". If speed is 81 or more, the result is \"Big    Ticket\". Unless it is your birthday (encoded as a boolean value in the parameters of the function) -- on your birthday, your speed can be 5 higher in all \n",
        "  cases. **"
      ]
    },
    {
      "cell_type": "code",
      "execution_count": 106,
      "metadata": {
        "collapsed": true,
        "id": "j87IpYmJr3kg"
      },
      "outputs": [],
      "source": [
        "def caught_speeding(speed, is_birthday):\n",
        "    if is_birthday:\n",
        "      speeding = speed - 5\n",
        "    else:\n",
        "      speeding = speed\n",
        "    \n",
        "    if speeding > 80:\n",
        "      return \"Big ticket!\"\n",
        "    elif speeding > 60:\n",
        "      return \"Small ticket!\"\n",
        "    else:\n",
        "      return \"No ticket!\""
      ]
    },
    {
      "cell_type": "code",
      "execution_count": 107,
      "metadata": {
        "id": "0aSB7ewUr3ki",
        "outputId": "39aa8fc3-ed13-46c1-ee01-b6ca172b3d02",
        "colab": {
          "base_uri": "https://localhost:8080/",
          "height": 35
        }
      },
      "outputs": [
        {
          "output_type": "execute_result",
          "data": {
            "text/plain": [
              "'Small ticket!'"
            ],
            "application/vnd.google.colaboratory.intrinsic+json": {
              "type": "string"
            }
          },
          "metadata": {},
          "execution_count": 107
        }
      ],
      "source": [
        "caught_speeding(81,True)"
      ]
    },
    {
      "cell_type": "code",
      "execution_count": 108,
      "metadata": {
        "id": "y6Nr98Vqr3kk",
        "outputId": "33dd287b-13c8-4a4e-d2ce-d47efeacc847",
        "colab": {
          "base_uri": "https://localhost:8080/",
          "height": 35
        }
      },
      "outputs": [
        {
          "output_type": "execute_result",
          "data": {
            "text/plain": [
              "'Big ticket!'"
            ],
            "application/vnd.google.colaboratory.intrinsic+json": {
              "type": "string"
            }
          },
          "metadata": {},
          "execution_count": 108
        }
      ],
      "source": [
        "caught_speeding(81,False)"
      ]
    },
    {
      "cell_type": "markdown",
      "metadata": {
        "id": "fAAQC2LAr3kk"
      },
      "source": [
        "# Great job!"
      ]
    }
  ],
  "metadata": {
    "kernelspec": {
      "display_name": "Python 3",
      "language": "python",
      "name": "python3"
    },
    "language_info": {
      "codemirror_mode": {
        "name": "ipython",
        "version": 3
      },
      "file_extension": ".py",
      "mimetype": "text/x-python",
      "name": "python",
      "nbconvert_exporter": "python",
      "pygments_lexer": "ipython3",
      "version": "3.6.2"
    },
    "colab": {
      "provenance": [],
      "collapsed_sections": []
    }
  },
  "nbformat": 4,
  "nbformat_minor": 0
}